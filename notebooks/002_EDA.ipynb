{
 "cells": [
  {
   "cell_type": "code",
   "execution_count": 2,
   "metadata": {},
   "outputs": [],
   "source": [
    "from sqlalchemy import create_engine, text\n",
    "import pandas as pd\n",
    "import psycopg2\n",
    "import json"
   ]
  },
  {
   "cell_type": "code",
   "execution_count": 3,
   "metadata": {},
   "outputs": [
    {
     "name": "stdout",
     "output_type": "stream",
     "text": [
      "¡Conexión exitosa!\n"
     ]
    }
   ],
   "source": [
    "# Cargar credenciales desde el archivo JSON\n",
    "with open(\"../credenciales.json\", \"r\") as file:\n",
    "    credenciales = json.load(file)\n",
    "\n",
    "# Establecer la conexión\n",
    "try:\n",
    "    conn = psycopg2.connect(\n",
    "        user=credenciales[\"user\"],\n",
    "        password=credenciales[\"password\"],\n",
    "        host=credenciales[\"host\"],\n",
    "        port=credenciales[\"port\"],\n",
    "        database=credenciales[\"database\"]\n",
    "    )\n",
    "    print(\"¡Conexión exitosa!\")\n",
    "except Exception as e:\n",
    "    print(f\"Error al conectar a la base de datos: {e}\")\n",
    "finally:\n",
    "    if conn:\n",
    "        conn.close()"
   ]
  }
 ],
 "metadata": {
  "kernelspec": {
   "display_name": "Python 3",
   "language": "python",
   "name": "python3"
  },
  "language_info": {
   "codemirror_mode": {
    "name": "ipython",
    "version": 3
   },
   "file_extension": ".py",
   "mimetype": "text/x-python",
   "name": "python",
   "nbconvert_exporter": "python",
   "pygments_lexer": "ipython3",
   "version": "3.12.0"
  }
 },
 "nbformat": 4,
 "nbformat_minor": 2
}

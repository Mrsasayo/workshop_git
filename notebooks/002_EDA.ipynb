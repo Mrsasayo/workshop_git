{
 "cells": [
  {
   "cell_type": "code",
   "execution_count": null,
   "metadata": {},
   "outputs": [],
   "source": [
    "import pandas as pd\n",
    "from sqlalchemy import create_engine\n",
    "import matplotlib.pyplot as plt\n",
    "import seaborn as sns\n",
    "import psycopg2\n",
    "import json"
   ]
  },
  {
   "cell_type": "code",
   "execution_count": 12,
   "metadata": {},
   "outputs": [
    {
     "name": "stdout",
     "output_type": "stream",
     "text": [
      "¡Conexión exitosa!\n"
     ]
    }
   ],
   "source": [
    "conn = None\n",
    "# Cargar credenciales desde el archivo JSON\n",
    "try:\n",
    "    with open(\"../credenciales.json\", \"r\") as file:\n",
    "        credenciales = json.load(file)\n",
    "except Exception as e:\n",
    "    print(f\"Error al cargar el archivo JSON: {e}\")\n",
    "    credenciales = None\n",
    "\n",
    "# Establecer la conexión\n",
    "if credenciales:  # Solo intentar conectar si las credenciales se cargaron correctamente\n",
    "    try:\n",
    "        conn = psycopg2.connect(\n",
    "            user=credenciales[\"user\"],\n",
    "            password=credenciales[\"password\"],\n",
    "            host=credenciales[\"host\"],\n",
    "            port=credenciales[\"port\"],\n",
    "            database=credenciales[\"database\"]\n",
    "        )\n",
    "        print(\"¡Conexión exitosa!\")\n",
    "    except Exception as e:\n",
    "        print(f\"Error al conectar a la base de datos: {e}\")\n",
    "else:\n",
    "    print(\"No se pudieron cargar las credenciales. No se puede establecer la conexión.\")"
   ]
  },
  {
   "cell_type": "code",
   "execution_count": 15,
   "metadata": {},
   "outputs": [],
   "source": [
    "# Cargar credenciales desde el archivo JSON\n",
    "with open(\"../credenciales.json\", \"r\") as file:\n",
    "    credenciales = json.load(file)\n",
    "\n",
    "# Crear la cadena de conexión\n",
    "connection_string = f\"postgresql+psycopg2://{credenciales['user']}:{credenciales['password']}@{credenciales['host']}:{credenciales['port']}/{credenciales['database']}\"\n",
    "engine = create_engine(connection_string)\n",
    "\n",
    "# Cargar los datos desde la base de datos\n",
    "df = pd.read_sql_table('candidates', engine)"
   ]
  },
  {
   "cell_type": "code",
   "execution_count": 76,
   "metadata": {},
   "outputs": [
    {
     "name": "stdout",
     "output_type": "stream",
     "text": [
      "<class 'pandas.core.frame.DataFrame'>\n",
      "RangeIndex: 50000 entries, 0 to 49999\n",
      "Data columns (total 10 columns):\n",
      " #   Column                     Non-Null Count  Dtype         \n",
      "---  ------                     --------------  -----         \n",
      " 0   First Name                 50000 non-null  object        \n",
      " 1   Last Name                  50000 non-null  object        \n",
      " 2   Email                      50000 non-null  object        \n",
      " 3   Application Date           50000 non-null  datetime64[ns]\n",
      " 4   Country                    50000 non-null  object        \n",
      " 5   YOE                        50000 non-null  int64         \n",
      " 6   Seniority                  50000 non-null  object        \n",
      " 7   Technology                 50000 non-null  object        \n",
      " 8   Code Challenge Score       50000 non-null  float64       \n",
      " 9   Technical Interview Score  50000 non-null  float64       \n",
      "dtypes: datetime64[ns](1), float64(2), int64(1), object(6)\n",
      "memory usage: 3.8+ MB\n"
     ]
    }
   ],
   "source": [
    "df.info()"
   ]
  },
  {
   "cell_type": "code",
   "execution_count": 77,
   "metadata": {},
   "outputs": [
    {
     "name": "stdout",
     "output_type": "stream",
     "text": [
      "Valores nulos por columna:\n",
      "First Name                   0\n",
      "Last Name                    0\n",
      "Email                        0\n",
      "Application Date             0\n",
      "Country                      0\n",
      "YOE                          0\n",
      "Seniority                    0\n",
      "Technology                   0\n",
      "Code Challenge Score         0\n",
      "Technical Interview Score    0\n",
      "dtype: int64\n",
      "\n",
      "Número de filas duplicadas:\n",
      "0\n",
      "\n",
      "Estadísticas descriptivas:\n"
     ]
    },
    {
     "data": {
      "text/html": [
       "<div>\n",
       "<style scoped>\n",
       "    .dataframe tbody tr th:only-of-type {\n",
       "        vertical-align: middle;\n",
       "    }\n",
       "\n",
       "    .dataframe tbody tr th {\n",
       "        vertical-align: top;\n",
       "    }\n",
       "\n",
       "    .dataframe thead th {\n",
       "        text-align: right;\n",
       "    }\n",
       "</style>\n",
       "<table border=\"1\" class=\"dataframe\">\n",
       "  <thead>\n",
       "    <tr style=\"text-align: right;\">\n",
       "      <th></th>\n",
       "      <th>Application Date</th>\n",
       "      <th>YOE</th>\n",
       "      <th>Code Challenge Score</th>\n",
       "      <th>Technical Interview Score</th>\n",
       "    </tr>\n",
       "  </thead>\n",
       "  <tbody>\n",
       "    <tr>\n",
       "      <th>count</th>\n",
       "      <td>50000</td>\n",
       "      <td>50000.000000</td>\n",
       "      <td>50000.000000</td>\n",
       "      <td>50000.000000</td>\n",
       "    </tr>\n",
       "    <tr>\n",
       "      <th>mean</th>\n",
       "      <td>2020-04-03 23:04:14.592000</td>\n",
       "      <td>15.286980</td>\n",
       "      <td>4.996400</td>\n",
       "      <td>5.003880</td>\n",
       "    </tr>\n",
       "    <tr>\n",
       "      <th>min</th>\n",
       "      <td>2018-01-01 00:00:00</td>\n",
       "      <td>0.000000</td>\n",
       "      <td>0.000000</td>\n",
       "      <td>0.000000</td>\n",
       "    </tr>\n",
       "    <tr>\n",
       "      <th>25%</th>\n",
       "      <td>2019-02-17 00:00:00</td>\n",
       "      <td>8.000000</td>\n",
       "      <td>2.000000</td>\n",
       "      <td>2.000000</td>\n",
       "    </tr>\n",
       "    <tr>\n",
       "      <th>50%</th>\n",
       "      <td>2020-04-06 00:00:00</td>\n",
       "      <td>15.000000</td>\n",
       "      <td>5.000000</td>\n",
       "      <td>5.000000</td>\n",
       "    </tr>\n",
       "    <tr>\n",
       "      <th>75%</th>\n",
       "      <td>2021-05-21 00:00:00</td>\n",
       "      <td>23.000000</td>\n",
       "      <td>8.000000</td>\n",
       "      <td>8.000000</td>\n",
       "    </tr>\n",
       "    <tr>\n",
       "      <th>max</th>\n",
       "      <td>2022-07-04 00:00:00</td>\n",
       "      <td>30.000000</td>\n",
       "      <td>10.000000</td>\n",
       "      <td>10.000000</td>\n",
       "    </tr>\n",
       "    <tr>\n",
       "      <th>std</th>\n",
       "      <td>NaN</td>\n",
       "      <td>8.830652</td>\n",
       "      <td>3.166896</td>\n",
       "      <td>3.165082</td>\n",
       "    </tr>\n",
       "  </tbody>\n",
       "</table>\n",
       "</div>"
      ],
      "text/plain": [
       "                 Application Date           YOE  Code Challenge Score  \\\n",
       "count                       50000  50000.000000          50000.000000   \n",
       "mean   2020-04-03 23:04:14.592000     15.286980              4.996400   \n",
       "min           2018-01-01 00:00:00      0.000000              0.000000   \n",
       "25%           2019-02-17 00:00:00      8.000000              2.000000   \n",
       "50%           2020-04-06 00:00:00     15.000000              5.000000   \n",
       "75%           2021-05-21 00:00:00     23.000000              8.000000   \n",
       "max           2022-07-04 00:00:00     30.000000             10.000000   \n",
       "std                           NaN      8.830652              3.166896   \n",
       "\n",
       "       Technical Interview Score  \n",
       "count               50000.000000  \n",
       "mean                    5.003880  \n",
       "min                     0.000000  \n",
       "25%                     2.000000  \n",
       "50%                     5.000000  \n",
       "75%                     8.000000  \n",
       "max                    10.000000  \n",
       "std                     3.165082  "
      ]
     },
     "execution_count": 77,
     "metadata": {},
     "output_type": "execute_result"
    }
   ],
   "source": [
    "# 1. Contar valores nulos por columna\n",
    "print(\"Valores nulos por columna:\")\n",
    "print(df.isnull().sum())\n",
    "\n",
    "# 2. Contar filas duplicadas\n",
    "print(\"\\nNúmero de filas duplicadas:\")\n",
    "print(df.duplicated().sum())\n",
    "\n",
    "# 3. Estadísticas descriptivas para columnas numéricas\n",
    "print(\"\\nEstadísticas descriptivas:\")\n",
    "df.describe()"
   ]
  },
  {
   "cell_type": "markdown",
   "metadata": {},
   "source": [
    "desglosemos por variable: sera en orden segun el anterior codigo\n",
    "\n",
    "empezaremos por 'First Name' y 'Last Name' ya que estos valores son muy homogeneos"
   ]
  },
  {
   "cell_type": "code",
   "execution_count": 101,
   "metadata": {},
   "outputs": [
    {
     "name": "stdout",
     "output_type": "stream",
     "text": [
      "Número de nombres únicos (First Name): 3007\n",
      "Número de apellidos únicos (Last Name): 474\n",
      "\n",
      "Frecuencia de nombres (First Name):\n",
      "First Name\n",
      "Sarai        33\n",
      "Elyse        32\n",
      "Eva          31\n",
      "Anabel       31\n",
      "Nayeli       30\n",
      "             ..\n",
      "Willie        6\n",
      "Janis         6\n",
      "Paul          5\n",
      "Gudrun        5\n",
      "Antonetta     5\n",
      "Name: count, Length: 3007, dtype: int64\n",
      "\n",
      "======================================\n",
      "\n",
      "Frecuencia de apellidos (Last Name):\n",
      "Last Name\n",
      "Murazik      138\n",
      "Nitzsche     134\n",
      "Harvey       133\n",
      "Metz         133\n",
      "Lang         133\n",
      "            ... \n",
      "Kutch         83\n",
      "Howe          82\n",
      "White         79\n",
      "Mcclure       78\n",
      "Bechtelar     76\n",
      "Name: count, Length: 474, dtype: int64\n",
      "\n",
      "Número de registros con nombres (First Name) que contienen espacios: 0\n",
      "Número de registros con apellidos (Last Name) que contienen espacios: 0\n"
     ]
    }
   ],
   "source": [
    "# 1. Conteo de nombres y apellidos únicos\n",
    "num_first_names = df['First Name'].nunique()\n",
    "num_last_names = df['Last Name'].nunique()\n",
    "\n",
    "print(f\"Número de nombres únicos (First Name): {num_first_names}\")\n",
    "print(f\"Número de apellidos únicos (Last Name): {num_last_names}\")\n",
    "\n",
    "# 2. Frecuencia de nombres y apellidos\n",
    "print(\"\\nFrecuencia de nombres (First Name):\")\n",
    "print(df['First Name'].value_counts())\n",
    "\n",
    "print(\"\\n======================================\")\n",
    "print(\"\\nFrecuencia de apellidos (Last Name):\")\n",
    "print(df['Last Name'].value_counts())\n",
    "\n",
    "# 3. Verificar y corregir nombres y apellidos\n",
    "# Capitalizar nombres y apellidos (primera letra en mayúscula, el resto en minúscula)\n",
    "df['First Name'] = df['First Name'].str.capitalize()\n",
    "df['Last Name'] = df['Last Name'].str.capitalize()\n",
    "\n",
    "# 4. Verificar espacios en nombres y apellidos\n",
    "# Verificar espacios en First Name\n",
    "num_nombres_con_espacios = df['First Name'].str.contains(' ', regex=False).sum()\n",
    "print(f\"\\nNúmero de registros con nombres (First Name) que contienen espacios: {num_nombres_con_espacios}\")\n",
    "\n",
    "# Verificar espacios en Last Name\n",
    "num_apellidos_con_espacios = df['Last Name'].str.contains(' ', regex=False).sum()\n",
    "print(f\"Número de registros con apellidos (Last Name) que contienen espacios: {num_apellidos_con_espacios}\")"
   ]
  },
  {
   "cell_type": "markdown",
   "metadata": {},
   "source": [
    "↑↑↑con esta informacion nos damos cuenta para saber cual es el primer/ultimo nombre mas popular entre todos, se podria sacar con respecto a esto una grafica que reuna los paises y que estos digan cual es el nombre mas usa de cada pais↑↑↑"
   ]
  },
  {
   "cell_type": "markdown",
   "metadata": {},
   "source": [
    "↓↓↓ahora miraremos la columna 'Email'↓↓↓"
   ]
  },
  {
   "cell_type": "code",
   "execution_count": null,
   "metadata": {},
   "outputs": [
    {
     "data": {
      "text/plain": [
       "Email\n",
       "fern70@gmail.com             3\n",
       "marianne31@yahoo.com         3\n",
       "hoyt52@yahoo.com             2\n",
       "bertrand65@hotmail.com       2\n",
       "rogers12@gmail.com           2\n",
       "                            ..\n",
       "marion91@hotmail.com         1\n",
       "sister51@hotmail.com         1\n",
       "marvin_parker@gmail.com      1\n",
       "holden_lakin@gmail.com       1\n",
       "abigayle.crooks@yahoo.com    1\n",
       "Name: count, Length: 49833, dtype: int64"
      ]
     },
     "execution_count": 30,
     "metadata": {},
     "output_type": "execute_result"
    }
   ],
   "source": [
    "df['Email'].value_counts()"
   ]
  },
  {
   "cell_type": "code",
   "execution_count": null,
   "metadata": {},
   "outputs": [
    {
     "name": "stdout",
     "output_type": "stream",
     "text": [
      "Nombres y apellidos duplicados en cuentas con correos repetidos:\n",
      "Empty DataFrame\n",
      "Columns: [First Name, Last Name, count]\n",
      "Index: []\n",
      "\n",
      "Total de personas con correo repetido: 332\n",
      "\n",
      "Detalle de personas con correos repetidos:\n",
      "      First Name   Last Name                    Email\n",
      "37        Grayce       Boyer      matilda17@gmail.com\n",
      "42         River      Erdman      dewayne50@gmail.com\n",
      "385       Kailee  Konopelski       sandra83@gmail.com\n",
      "455      Clemmie     Gleason         kadin0@gmail.com\n",
      "469        Lelia      Nienow      ilene47@hotmail.com\n",
      "...          ...         ...                      ...\n",
      "49236     Katlyn       Moore      stephen39@yahoo.com\n",
      "49819     Kaylin       Hills  alejandra17@hotmail.com\n",
      "49828    Mozelle   O'Connell      fiona72@hotmail.com\n",
      "49905       Mark      Rippin     callie59@hotmail.com\n",
      "49912  Anastasia       Zieme       esteban3@yahoo.com\n",
      "\n",
      "[332 rows x 3 columns]\n"
     ]
    }
   ],
   "source": [
    "# 1. Obtener los correos que aparecen más de una vez\n",
    "emails_mas_veces = df['Email'].value_counts()[df['Email'].value_counts() > 1]\n",
    "\n",
    "# 2. Filtrar el DataFrame original para incluir solo los correos que aparecen más de una vez\n",
    "df_filtrado = df[df['Email'].isin(emails_mas_veces.index)]\n",
    "\n",
    "# 3. Seleccionar las columnas de interés (First Name, Last Name y Email)\n",
    "resultado = df_filtrado[['First Name', 'Last Name', 'Email']]\n",
    "\n",
    "# 4. Agrupar por First Name y Last Name y contar cuántas veces aparecen\n",
    "nombres_duplicados = df_filtrado.groupby(['First Name', 'Last Name']).size().reset_index(name='count')\n",
    "\n",
    "# 5. Filtrar los nombres y apellidos que aparecen más de una vez\n",
    "nombres_duplicados = nombres_duplicados[nombres_duplicados['count'] > 1]\n",
    "\n",
    "# 6. Contar cuántas personas tienen correos repetidos\n",
    "total_personas_con_correo_repetido = len(df_filtrado)\n",
    "\n",
    "# 7. Mostrar los resultados\n",
    "print(\"Nombres y apellidos duplicados en cuentas con correos repetidos:\")\n",
    "print(nombres_duplicados)\n",
    "\n",
    "print(f\"\\nTotal de personas con correo repetido: {total_personas_con_correo_repetido}\")\n",
    "\n",
    "print(\"\\nDetalle de personas con correos repetidos:\")\n",
    "print(resultado)"
   ]
  },
  {
   "cell_type": "code",
   "execution_count": 48,
   "metadata": {},
   "outputs": [
    {
     "data": {
      "image/png": "[encoded data removed]",
      "text/plain": [
       "<Figure size 200x300 with 1 Axes>"
      ]
     },
     "metadata": {},
     "output_type": "display_data"
    }
   ],
   "source": [
    "# Calcular la proporción de correos repetidos y no repetidos\n",
    "total_correos = len(df)\n",
    "correos_repetidos = len(df_filtrado)\n",
    "correos_no_repetidos = total_correos - correos_repetidos\n",
    "\n",
    "# Crear la gráfica de pastel\n",
    "plt.figure(figsize=(2, 3))\n",
    "plt.pie([correos_repetidos, correos_no_repetidos], labels=[\"Correos repetidos\", \"Correos no repetidos\"], autopct='%1.1f%%', colors=[\"#ff9999\", \"#66b3ff\"])\n",
    "plt.title(\"Proporción de correos repetidos y no repetidos\")\n",
    "plt.show()"
   ]
  },
  {
   "cell_type": "markdown",
   "metadata": {},
   "source": [
    "↑↑↑con esto concluimos que un pequño porcentaje de esta muestra de la poblacion mundial nos indica que en la base de datos han sido utilizados los mismos correos por distintas personas, esto puede generar problemas↑↑↑"
   ]
  },
  {
   "cell_type": "code",
   "execution_count": 102,
   "metadata": {},
   "outputs": [
    {
     "data": {
      "text/plain": [
       "Application Date\n",
       "2020-07-07    50\n",
       "2018-12-06    48\n",
       "2020-07-18    47\n",
       "2019-09-01    47\n",
       "2021-07-31    47\n",
       "              ..\n",
       "2022-01-05    17\n",
       "2020-05-03    16\n",
       "2019-08-31    16\n",
       "2019-03-27    15\n",
       "2022-01-08    14\n",
       "Name: count, Length: 1646, dtype: int64"
      ]
     },
     "execution_count": 102,
     "metadata": {},
     "output_type": "execute_result"
    }
   ],
   "source": [
    "df['Application Date'].value_counts()"
   ]
  },
  {
   "cell_type": "markdown",
   "metadata": {},
   "source": [
    "↓↓↓seguimos con la columna 'Country'↓↓↓"
   ]
  },
  {
   "cell_type": "code",
   "execution_count": 106,
   "metadata": {},
   "outputs": [
    {
     "name": "stdout",
     "output_type": "stream",
     "text": [
      "Número de países diferentes: 244\n",
      "\n",
      "Frecuencia de cada país:\n",
      "Country\n",
      "Malawi                          242\n",
      "Spain                           238\n",
      "Svalbard & Jan Mayen Islands    234\n",
      "Cook Islands                    234\n",
      "Netherlands Antilles            234\n",
      "                               ... \n",
      "Libyan Arab Jamahiriya          172\n",
      "Cape Verde                      172\n",
      "Isle of Man                     170\n",
      "Tanzania                        165\n",
      "Cocos (Keeling) Islands         164\n",
      "Name: count, Length: 244, dtype: int64\n",
      "\n",
      "Lista de países únicos:\n",
      "['Norway' 'Panama' 'Belarus' 'Eritrea' 'Myanmar' 'Zimbabwe'\n",
      " 'Wallis and Futuna' 'Italy' 'Timor-Leste' 'Armenia'\n",
      " 'French Southern Territories' 'Chad' 'El Salvador' 'Mozambique'\n",
      " 'Brunei Darussalam' 'Morocco' 'Saint Helena' 'Portugal'\n",
      " 'Central African Republic' 'Seychelles' 'Dominica' 'Finland' 'Belgium'\n",
      " 'Niue' 'Japan' 'Palestinian Territory' 'Faroe Islands' 'Latvia'\n",
      " 'Saudi Arabia' 'Poland' 'Micronesia' 'Macao' 'Bangladesh' 'Taiwan'\n",
      " 'Slovakia (Slovak Republic)' 'Mexico' 'Nigeria' 'Guadeloupe'\n",
      " 'Bosnia and Herzegovina' 'Guyana' 'Croatia'\n",
      " 'Svalbard & Jan Mayen Islands' 'Yemen' 'Ukraine' 'Zambia' 'Paraguay'\n",
      " 'Puerto Rico' 'Madagascar' 'Bulgaria' 'Jersey' 'French Polynesia'\n",
      " 'United States of America' 'Mali' 'Anguilla'\n",
      " 'Holy See (Vatican City State)' 'Andorra' 'Republic of Korea' 'Turkey'\n",
      " 'Heard Island and McDonald Islands' 'Malta' 'Liechtenstein'\n",
      " 'Equatorial Guinea' 'Algeria' 'Falkland Islands (Malvinas)' 'Ecuador'\n",
      " 'Jamaica' 'San Marino' 'Malawi' 'Albania' 'Guinea-Bissau' 'Brazil'\n",
      " 'Cyprus' 'Botswana' 'Kiribati' 'Estonia' 'Nepal' 'Cook Islands'\n",
      " \"Lao People's Democratic Republic\" 'Vanuatu' 'Mauritania' 'Nauru'\n",
      " 'Trinidad and Tobago' 'Gibraltar' 'Pitcairn Islands' 'Montenegro'\n",
      " 'Antarctica (the territory South of 60 deg S)' 'Sudan' 'Honduras'\n",
      " 'Cayman Islands' 'France' 'Virgin Islands British' 'Iran' 'Barbados'\n",
      " 'Turks and Caicos Islands' 'Malaysia' 'Austria' 'Burkina Faso' 'Moldova'\n",
      " 'Serbia' 'Indonesia' 'United Kingdom' 'Haiti' 'Hong Kong'\n",
      " 'British Indian Ocean Territory (Chagos Archipelago)' 'Denmark' 'Tunisia'\n",
      " 'Bhutan' 'Kyrgyz Republic' 'Afghanistan' 'Grenada' 'Maldives' 'Togo'\n",
      " 'Congo' 'Belize' \"Cote d'Ivoire\" 'Marshall Islands' 'Guam' 'Ghana'\n",
      " 'American Samoa' 'Israel' 'Libyan Arab Jamahiriya' 'Lesotho' 'Samoa'\n",
      " 'Kenya' 'Saint Pierre and Miquelon' 'Jordan' 'Bahamas' 'Bahrain'\n",
      " 'Nicaragua' 'Djibouti' 'Saint Lucia' 'Kazakhstan' 'Tonga' 'Angola'\n",
      " 'Saint Martin' 'Reunion' 'Niger' 'United States Minor Outlying Islands'\n",
      " 'Antigua and Barbuda' \"Democratic People's Republic of Korea\" 'Thailand'\n",
      " 'Philippines' 'Western Sahara' 'Bermuda' 'Gambia' 'Virgin Islands U.S.'\n",
      " 'Slovenia' 'Turkmenistan' 'Montserrat' 'Saint Barthelemy' 'Senegal'\n",
      " 'Saint Kitts and Nevis' 'Mauritius' 'Rwanda' 'China' 'Tokelau' 'Greece'\n",
      " 'Papua New Guinea' 'Fiji' 'Cuba' 'Australia' 'Egypt' 'Mongolia' 'Namibia'\n",
      " 'Iceland' 'Guatemala' 'Solomon Islands' 'Tanzania' 'Sweden' 'Swaziland'\n",
      " 'Saint Vincent and the Grenadines' 'Sierra Leone' 'Somalia' 'Oman'\n",
      " 'Argentina' 'Bolivia' 'Luxembourg' 'Venezuela' 'Macedonia'\n",
      " 'Netherlands Antilles' 'Syrian Arab Republic' 'Qatar'\n",
      " 'United Arab Emirates' 'Sri Lanka' 'New Caledonia' 'Comoros' 'Uzbekistan'\n",
      " 'Cocos (Keeling) Islands' 'Azerbaijan' 'Russian Federation' 'Chile'\n",
      " 'Cambodia' 'Czech Republic' 'Martinique' 'Guinea' 'Singapore' 'Colombia'\n",
      " 'Germany' 'Aruba' 'Kuwait' 'Cape Verde' 'Burundi' 'Liberia'\n",
      " 'Norfolk Island' 'Pakistan' 'Isle of Man' 'Ireland'\n",
      " 'Northern Mariana Islands' 'Bouvet Island (Bouvetoya)' 'Greenland'\n",
      " 'Costa Rica' 'Netherlands' 'South Africa' 'Canada' 'Lebanon'\n",
      " 'New Zealand' 'Uruguay' 'Dominican Republic' 'Lithuania' 'Ethiopia'\n",
      " 'Cameroon' 'Iraq' 'India' 'Guernsey' 'Peru' 'Tajikistan' 'Vietnam'\n",
      " 'Palau' 'Monaco' 'French Guiana'\n",
      " 'South Georgia and the South Sandwich Islands' 'Spain' 'Christmas Island'\n",
      " 'Tuvalu' 'Georgia' 'Switzerland' 'Suriname' 'Hungary' 'Gabon'\n",
      " 'Sao Tome and Principe' 'Mayotte' 'Benin' 'Uganda' 'Romania']\n"
     ]
    }
   ],
   "source": [
    "# 1. Contar el número de países diferentes\n",
    "num_paises_unicos = df['Country'].nunique()\n",
    "print(f\"Número de países diferentes: {num_paises_unicos}\")\n",
    "\n",
    "# 2. Obtener la frecuencia de cada país\n",
    "frecuencia_paises = df['Country'].value_counts()\n",
    "print(\"\\nFrecuencia de cada país:\")\n",
    "print(frecuencia_paises)\n",
    "\n",
    "# 3. Obtener la lista de países únicos\n",
    "paises_unicos = df['Country'].unique()\n",
    "\n",
    "# 4. Mostrar la lista de países únicos\n",
    "print(\"\\nLista de países únicos:\")\n",
    "print(paises_unicos)"
   ]
  },
  {
   "cell_type": "code",
   "execution_count": null,
   "metadata": {},
   "outputs": [],
   "source": []
  },
  {
   "cell_type": "markdown",
   "metadata": {},
   "source": [
    "dd"
   ]
  },
  {
   "cell_type": "markdown",
   "metadata": {},
   "source": []
  },
  {
   "cell_type": "code",
   "execution_count": 32,
   "metadata": {},
   "outputs": [
    {
     "data": {
      "text/plain": [
       "Seniority\n",
       "Intern       7255\n",
       "Mid-Level    7253\n",
       "Trainee      7183\n",
       "Junior       7100\n",
       "Architect    7079\n",
       "Lead         7071\n",
       "Senior       7059\n",
       "Name: count, dtype: int64"
      ]
     },
     "execution_count": 32,
     "metadata": {},
     "output_type": "execute_result"
    }
   ],
   "source": [
    "df['Seniority'].value_counts()"
   ]
  },
  {
   "cell_type": "code",
   "execution_count": 33,
   "metadata": {},
   "outputs": [
    {
     "data": {
      "text/plain": [
       "Technology\n",
       "Game Development                           3818\n",
       "DevOps                                     3808\n",
       "Social Media Community Management          2028\n",
       "System Administration                      2014\n",
       "Mulesoft                                   1973\n",
       "Development - Backend                      1965\n",
       "Development - FullStack                    1961\n",
       "Adobe Experience Manager                   1954\n",
       "Data Engineer                              1951\n",
       "Security                                   1936\n",
       "Development - CMS Frontend                 1934\n",
       "Business Intelligence                      1934\n",
       "Database Administration                    1933\n",
       "Client Success                             1927\n",
       "Design                                     1906\n",
       "QA Manual                                  1902\n",
       "Technical Writing                          1901\n",
       "QA Automation                              1892\n",
       "Sales                                      1890\n",
       "Development - Frontend                     1887\n",
       "Development - CMS Backend                  1882\n",
       "Business Analytics / Project Management    1878\n",
       "Salesforce                                 1874\n",
       "Security Compliance                        1852\n",
       "Name: count, dtype: int64"
      ]
     },
     "execution_count": 33,
     "metadata": {},
     "output_type": "execute_result"
    }
   ],
   "source": [
    "df['Technology'].value_counts()"
   ]
  },
  {
   "cell_type": "code",
   "execution_count": null,
   "metadata": {},
   "outputs": [],
   "source": []
  }
 ],
 "metadata": {
  "kernelspec": {
   "display_name": "Python 3",
   "language": "python",
   "name": "python3"
  },
  "language_info": {
   "codemirror_mode": {
    "name": "ipython",
    "version": 3
   },
   "file_extension": ".py",
   "mimetype": "text/x-python",
   "name": "python",
   "nbconvert_exporter": "python",
   "pygments_lexer": "ipython3",
   "version": "3.12.0"
  }
 },
 "nbformat": 4,
 "nbformat_minor": 2
}

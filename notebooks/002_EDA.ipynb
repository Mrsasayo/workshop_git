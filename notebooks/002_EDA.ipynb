{
 "cells": [
  {
   "cell_type": "code",
   "execution_count": 7,
   "metadata": {},
   "outputs": [],
   "source": [
    "import pandas as pd\n",
    "from sqlalchemy import create_engine\n",
    "import matplotlib.pyplot as plt\n",
    "import seaborn as sns\n",
    "import psycopg2\n",
    "import json"
   ]
  },
  {
   "cell_type": "code",
   "execution_count": 12,
   "metadata": {},
   "outputs": [
    {
     "name": "stdout",
     "output_type": "stream",
     "text": [
      "¡Conexión exitosa!\n"
     ]
    }
   ],
   "source": [
    "conn = None\n",
    "# Cargar credenciales desde el archivo JSON\n",
    "try:\n",
    "    with open(\"../credenciales.json\", \"r\") as file:\n",
    "        credenciales = json.load(file)\n",
    "except Exception as e:\n",
    "    print(f\"Error al cargar el archivo JSON: {e}\")\n",
    "    credenciales = None\n",
    "\n",
    "# Establecer la conexión\n",
    "if credenciales:  # Solo intentar conectar si las credenciales se cargaron correctamente\n",
    "    try:\n",
    "        conn = psycopg2.connect(\n",
    "            user=credenciales[\"user\"],\n",
    "            password=credenciales[\"password\"],\n",
    "            host=credenciales[\"host\"],\n",
    "            port=credenciales[\"port\"],\n",
    "            database=credenciales[\"database\"]\n",
    "        )\n",
    "        print(\"¡Conexión exitosa!\")\n",
    "    except Exception as e:\n",
    "        print(f\"Error al conectar a la base de datos: {e}\")\n",
    "else:\n",
    "    print(\"No se pudieron cargar las credenciales. No se puede establecer la conexión.\")"
   ]
  },
  {
   "cell_type": "code",
   "execution_count": 15,
   "metadata": {},
   "outputs": [],
   "source": [
    "# Cargar credenciales desde el archivo JSON\n",
    "with open(\"../credenciales.json\", \"r\") as file:\n",
    "    credenciales = json.load(file)\n",
    "\n",
    "# Crear la cadena de conexión\n",
    "connection_string = f\"postgresql+psycopg2://{credenciales['user']}:{credenciales['password']}@{credenciales['host']}:{credenciales['port']}/{credenciales['database']}\"\n",
    "engine = create_engine(connection_string)\n",
    "\n",
    "# Cargar los datos desde la base de datos\n",
    "df = pd.read_sql_table('candidates', engine)"
   ]
  },
  {
   "cell_type": "code",
   "execution_count": 16,
   "metadata": {},
   "outputs": [
    {
     "name": "stdout",
     "output_type": "stream",
     "text": [
      "<class 'pandas.core.frame.DataFrame'>\n",
      "RangeIndex: 50000 entries, 0 to 49999\n",
      "Data columns (total 10 columns):\n",
      " #   Column                     Non-Null Count  Dtype         \n",
      "---  ------                     --------------  -----         \n",
      " 0   First Name                 50000 non-null  object        \n",
      " 1   Last Name                  50000 non-null  object        \n",
      " 2   Email                      50000 non-null  object        \n",
      " 3   Application Date           50000 non-null  datetime64[ns]\n",
      " 4   Country                    50000 non-null  object        \n",
      " 5   YOE                        50000 non-null  int64         \n",
      " 6   Seniority                  50000 non-null  object        \n",
      " 7   Technology                 50000 non-null  object        \n",
      " 8   Code Challenge Score       50000 non-null  float64       \n",
      " 9   Technical Interview Score  50000 non-null  float64       \n",
      "dtypes: datetime64[ns](1), float64(2), int64(1), object(6)\n",
      "memory usage: 3.8+ MB\n"
     ]
    }
   ],
   "source": [
    "(df.info())"
   ]
  },
  {
   "cell_type": "code",
   "execution_count": 17,
   "metadata": {},
   "outputs": [
    {
     "data": {
      "text/plain": [
       "First Name                   0\n",
       "Last Name                    0\n",
       "Email                        0\n",
       "Application Date             0\n",
       "Country                      0\n",
       "YOE                          0\n",
       "Seniority                    0\n",
       "Technology                   0\n",
       "Code Challenge Score         0\n",
       "Technical Interview Score    0\n",
       "dtype: int64"
      ]
     },
     "execution_count": 17,
     "metadata": {},
     "output_type": "execute_result"
    }
   ],
   "source": [
    "df.isnull().sum()"
   ]
  },
  {
   "cell_type": "code",
   "execution_count": 18,
   "metadata": {},
   "outputs": [
    {
     "data": {
      "text/plain": [
       "0"
      ]
     },
     "execution_count": 18,
     "metadata": {},
     "output_type": "execute_result"
    }
   ],
   "source": [
    "df.duplicated().sum()"
   ]
  },
  {
   "cell_type": "code",
   "execution_count": 19,
   "metadata": {},
   "outputs": [
    {
     "data": {
      "text/html": [
       "<div>\n",
       "<style scoped>\n",
       "    .dataframe tbody tr th:only-of-type {\n",
       "        vertical-align: middle;\n",
       "    }\n",
       "\n",
       "    .dataframe tbody tr th {\n",
       "        vertical-align: top;\n",
       "    }\n",
       "\n",
       "    .dataframe thead th {\n",
       "        text-align: right;\n",
       "    }\n",
       "</style>\n",
       "<table border=\"1\" class=\"dataframe\">\n",
       "  <thead>\n",
       "    <tr style=\"text-align: right;\">\n",
       "      <th></th>\n",
       "      <th>Application Date</th>\n",
       "      <th>YOE</th>\n",
       "      <th>Code Challenge Score</th>\n",
       "      <th>Technical Interview Score</th>\n",
       "    </tr>\n",
       "  </thead>\n",
       "  <tbody>\n",
       "    <tr>\n",
       "      <th>count</th>\n",
       "      <td>50000</td>\n",
       "      <td>50000.000000</td>\n",
       "      <td>50000.000000</td>\n",
       "      <td>50000.000000</td>\n",
       "    </tr>\n",
       "    <tr>\n",
       "      <th>mean</th>\n",
       "      <td>2020-04-03 23:04:14.592000</td>\n",
       "      <td>15.286980</td>\n",
       "      <td>4.996400</td>\n",
       "      <td>5.003880</td>\n",
       "    </tr>\n",
       "    <tr>\n",
       "      <th>min</th>\n",
       "      <td>2018-01-01 00:00:00</td>\n",
       "      <td>0.000000</td>\n",
       "      <td>0.000000</td>\n",
       "      <td>0.000000</td>\n",
       "    </tr>\n",
       "    <tr>\n",
       "      <th>25%</th>\n",
       "      <td>2019-02-17 00:00:00</td>\n",
       "      <td>8.000000</td>\n",
       "      <td>2.000000</td>\n",
       "      <td>2.000000</td>\n",
       "    </tr>\n",
       "    <tr>\n",
       "      <th>50%</th>\n",
       "      <td>2020-04-06 00:00:00</td>\n",
       "      <td>15.000000</td>\n",
       "      <td>5.000000</td>\n",
       "      <td>5.000000</td>\n",
       "    </tr>\n",
       "    <tr>\n",
       "      <th>75%</th>\n",
       "      <td>2021-05-21 00:00:00</td>\n",
       "      <td>23.000000</td>\n",
       "      <td>8.000000</td>\n",
       "      <td>8.000000</td>\n",
       "    </tr>\n",
       "    <tr>\n",
       "      <th>max</th>\n",
       "      <td>2022-07-04 00:00:00</td>\n",
       "      <td>30.000000</td>\n",
       "      <td>10.000000</td>\n",
       "      <td>10.000000</td>\n",
       "    </tr>\n",
       "    <tr>\n",
       "      <th>std</th>\n",
       "      <td>NaN</td>\n",
       "      <td>8.830652</td>\n",
       "      <td>3.166896</td>\n",
       "      <td>3.165082</td>\n",
       "    </tr>\n",
       "  </tbody>\n",
       "</table>\n",
       "</div>"
      ],
      "text/plain": [
       "                 Application Date           YOE  Code Challenge Score  \\\n",
       "count                       50000  50000.000000          50000.000000   \n",
       "mean   2020-04-03 23:04:14.592000     15.286980              4.996400   \n",
       "min           2018-01-01 00:00:00      0.000000              0.000000   \n",
       "25%           2019-02-17 00:00:00      8.000000              2.000000   \n",
       "50%           2020-04-06 00:00:00     15.000000              5.000000   \n",
       "75%           2021-05-21 00:00:00     23.000000              8.000000   \n",
       "max           2022-07-04 00:00:00     30.000000             10.000000   \n",
       "std                           NaN      8.830652              3.166896   \n",
       "\n",
       "       Technical Interview Score  \n",
       "count               50000.000000  \n",
       "mean                    5.003880  \n",
       "min                     0.000000  \n",
       "25%                     2.000000  \n",
       "50%                     5.000000  \n",
       "75%                     8.000000  \n",
       "max                    10.000000  \n",
       "std                     3.165082  "
      ]
     },
     "execution_count": 19,
     "metadata": {},
     "output_type": "execute_result"
    }
   ],
   "source": [
    "df.describe()"
   ]
  },
  {
   "cell_type": "code",
   "execution_count": 30,
   "metadata": {},
   "outputs": [
    {
     "data": {
      "text/plain": [
       "Email\n",
       "fern70@gmail.com             3\n",
       "marianne31@yahoo.com         3\n",
       "hoyt52@yahoo.com             2\n",
       "bertrand65@hotmail.com       2\n",
       "rogers12@gmail.com           2\n",
       "                            ..\n",
       "marion91@hotmail.com         1\n",
       "sister51@hotmail.com         1\n",
       "marvin_parker@gmail.com      1\n",
       "holden_lakin@gmail.com       1\n",
       "abigayle.crooks@yahoo.com    1\n",
       "Name: count, Length: 49833, dtype: int64"
      ]
     },
     "execution_count": 30,
     "metadata": {},
     "output_type": "execute_result"
    }
   ],
   "source": [
    "df['Email'].value_counts()"
   ]
  },
  {
   "cell_type": "code",
   "execution_count": 31,
   "metadata": {},
   "outputs": [
    {
     "data": {
      "text/plain": [
       "Country\n",
       "Malawi                          242\n",
       "Spain                           238\n",
       "Svalbard & Jan Mayen Islands    234\n",
       "Cook Islands                    234\n",
       "Netherlands Antilles            234\n",
       "                               ... \n",
       "Libyan Arab Jamahiriya          172\n",
       "Cape Verde                      172\n",
       "Isle of Man                     170\n",
       "Tanzania                        165\n",
       "Cocos (Keeling) Islands         164\n",
       "Name: count, Length: 244, dtype: int64"
      ]
     },
     "execution_count": 31,
     "metadata": {},
     "output_type": "execute_result"
    }
   ],
   "source": [
    "df['Country'].value_counts()"
   ]
  },
  {
   "cell_type": "code",
   "execution_count": 32,
   "metadata": {},
   "outputs": [
    {
     "data": {
      "text/plain": [
       "Seniority\n",
       "Intern       7255\n",
       "Mid-Level    7253\n",
       "Trainee      7183\n",
       "Junior       7100\n",
       "Architect    7079\n",
       "Lead         7071\n",
       "Senior       7059\n",
       "Name: count, dtype: int64"
      ]
     },
     "execution_count": 32,
     "metadata": {},
     "output_type": "execute_result"
    }
   ],
   "source": [
    "df['Seniority'].value_counts()"
   ]
  },
  {
   "cell_type": "code",
   "execution_count": 33,
   "metadata": {},
   "outputs": [
    {
     "data": {
      "text/plain": [
       "Technology\n",
       "Game Development                           3818\n",
       "DevOps                                     3808\n",
       "Social Media Community Management          2028\n",
       "System Administration                      2014\n",
       "Mulesoft                                   1973\n",
       "Development - Backend                      1965\n",
       "Development - FullStack                    1961\n",
       "Adobe Experience Manager                   1954\n",
       "Data Engineer                              1951\n",
       "Security                                   1936\n",
       "Development - CMS Frontend                 1934\n",
       "Business Intelligence                      1934\n",
       "Database Administration                    1933\n",
       "Client Success                             1927\n",
       "Design                                     1906\n",
       "QA Manual                                  1902\n",
       "Technical Writing                          1901\n",
       "QA Automation                              1892\n",
       "Sales                                      1890\n",
       "Development - Frontend                     1887\n",
       "Development - CMS Backend                  1882\n",
       "Business Analytics / Project Management    1878\n",
       "Salesforce                                 1874\n",
       "Security Compliance                        1852\n",
       "Name: count, dtype: int64"
      ]
     },
     "execution_count": 33,
     "metadata": {},
     "output_type": "execute_result"
    }
   ],
   "source": [
    "df['Technology'].value_counts()"
   ]
  },
  {
   "cell_type": "code",
   "execution_count": null,
   "metadata": {},
   "outputs": [],
   "source": []
  }
 ],
 "metadata": {
  "kernelspec": {
   "display_name": "Python 3",
   "language": "python",
   "name": "python3"
  },
  "language_info": {
   "codemirror_mode": {
    "name": "ipython",
    "version": 3
   },
   "file_extension": ".py",
   "mimetype": "text/x-python",
   "name": "python",
   "nbconvert_exporter": "python",
   "pygments_lexer": "ipython3",
   "version": "3.12.0"
  }
 },
 "nbformat": 4,
 "nbformat_minor": 2
}

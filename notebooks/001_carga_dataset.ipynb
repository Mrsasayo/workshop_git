{
 "cells": [
  {
   "cell_type": "code",
   "execution_count": 3,
   "metadata": {},
   "outputs": [],
   "source": [
    "from sqlalchemy import create_engine, text\n",
    "import pandas as pd\n",
    "import psycopg2\n",
    "import json"
   ]
  },
  {
   "cell_type": "code",
   "execution_count": null,
   "metadata": {},
   "outputs": [
    {
     "name": "stdout",
     "output_type": "stream",
     "text": [
      "¡Conexión exitosa!\n"
     ]
    }
   ],
   "source": [
    "conn = None\n",
    "# Cargar credenciales desde el archivo JSON\n",
    "try:\n",
    "    with open(\"../credenciales.json\", \"r\") as file:\n",
    "        credenciales = json.load(file)\n",
    "except Exception as e:\n",
    "    print(f\"Error al cargar el archivo JSON: {e}\")\n",
    "    credenciales = None\n",
    "\n",
    "# Establecer la conexión\n",
    "if credenciales:  # Solo intentar conectar si las credenciales se cargaron correctamente\n",
    "    try:\n",
    "        conn = psycopg2.connect(\n",
    "            user=credenciales[\"user\"],\n",
    "            password=credenciales[\"password\"],\n",
    "            host=credenciales[\"host\"],\n",
    "            port=credenciales[\"port\"],\n",
    "            database=credenciales[\"database\"]\n",
    "        )\n",
    "        print(\"¡Conexión exitosa!\")\n",
    "    except Exception as e:\n",
    "        print(f\"Error al conectar a la base de datos: {e}\")\n",
    "else:\n",
    "    print(\"No se pudieron cargar las credenciales. No se puede establecer la conexión.\")"
   ]
  },
  {
   "cell_type": "code",
   "execution_count": 10,
   "metadata": {},
   "outputs": [],
   "source": [
    "#if conn:\n",
    "#    conn.close()\n",
    "#    print(\"Conexión cerrada correctamente.\")\n",
    "#else:\n",
    "#    print(\"No hay una conexión activa para cerrar.\")"
   ]
  },
  {
   "cell_type": "code",
   "execution_count": null,
   "metadata": {},
   "outputs": [
    {
     "name": "stdout",
     "output_type": "stream",
     "text": [
      "¡Conexión exitosa con SQLAlchemy!\n"
     ]
    }
   ],
   "source": [
    "# Cargar credenciales desde el archivo JSON\n",
    "try:\n",
    "    with open(\"../credenciales.json\", \"r\") as file:\n",
    "        credenciales = json.load(file)\n",
    "except Exception as e:\n",
    "    print(f\"Error al cargar el archivo JSON: {e}\")\n",
    "    credenciales = None\n",
    "\n",
    "# Crear la cadena de conexión\n",
    "if credenciales:\n",
    "    try:\n",
    "        connection_string = f\"postgresql+psycopg2://{credenciales['user']}:{credenciales['password']}@{credenciales['host']}:{credenciales['port']}/{credenciales['database']}\"\n",
    "        engine = create_engine(connection_string)\n",
    "        print(\"¡Conexión exitosa con SQLAlchemy!\")\n",
    "    except Exception as e:\n",
    "        print(f\"Error al conectar a la base de datos: {e}\")\n",
    "else:\n",
    "    print(\"No se pudieron cargar las credenciales. No se puede establecer la conexión.\")"
   ]
  },
  {
   "cell_type": "code",
   "execution_count": 26,
   "metadata": {},
   "outputs": [
    {
     "name": "stdout",
     "output_type": "stream",
     "text": [
      "   First Name   Last Name                      Email Application Date  \\\n",
      "0  Bernadette   Langworth        leonard91@yahoo.com       2021-02-26   \n",
      "1      Camryn    Reynolds        zelda56@hotmail.com       2021-09-09   \n",
      "2       Larue      Spinka   okey_schultz41@gmail.com       2020-04-14   \n",
      "3        Arch      Spinka     elvera_kulas@yahoo.com       2020-10-01   \n",
      "4       Larue  Altenwerth  minnie.gislason@gmail.com       2020-05-20   \n",
      "\n",
      "   Country  YOE  Seniority                         Technology  \\\n",
      "0   Norway    2     Intern                      Data Engineer   \n",
      "1   Panama   10     Intern                      Data Engineer   \n",
      "2  Belarus    4  Mid-Level                     Client Success   \n",
      "3  Eritrea   25    Trainee                          QA Manual   \n",
      "4  Myanmar   13  Mid-Level  Social Media Community Management   \n",
      "\n",
      "   Code Challenge Score  Technical Interview Score  \n",
      "0                     3                          3  \n",
      "1                     2                         10  \n",
      "2                    10                          9  \n",
      "3                     7                          1  \n",
      "4                     9                          7  \n"
     ]
    }
   ],
   "source": [
    "df = pd.read_csv(\"../data/candidates.csv\", delimiter=';')\n",
    "\n",
    "# Mostrar las primeras filas para verificar\n",
    "print(df.head())"
   ]
  },
  {
   "cell_type": "code",
   "execution_count": null,
   "metadata": {},
   "outputs": [
    {
     "name": "stdout",
     "output_type": "stream",
     "text": [
      "¡Tabla candidates creada exitosamente!\n"
     ]
    }
   ],
   "source": [
    "table_name = 'candidates'\n",
    "create_table_query = f\"\"\"\n",
    "CREATE TABLE IF NOT EXISTS {table_name} (\n",
    "    \"First Name\" TEXT,\n",
    "    \"Last Name\" TEXT,\n",
    "    \"Email\" TEXT,\n",
    "    \"Application Date\" DATE,\n",
    "    \"Country\" TEXT,\n",
    "    \"YOE\" INTEGER,\n",
    "    \"Seniority\" TEXT,\n",
    "    \"Technology\" TEXT,\n",
    "    \"Code Challenge Score\" FLOAT,\n",
    "    \"Technical Interview Score\" FLOAT\n",
    ");\n",
    "\"\"\"\n",
    "\n",
    "try:\n",
    "    with engine.connect() as connection:\n",
    "        connection.execute(text(create_table_query))\n",
    "        connection.commit()  # Confirmar la transacción\n",
    "        print(f\"¡Tabla {table_name} creada exitosamente!\")\n",
    "except Exception as e:\n",
    "    print(f\"Error al crear la tabla: {e}\")"
   ]
  },
  {
   "cell_type": "code",
   "execution_count": 20,
   "metadata": {},
   "outputs": [
    {
     "name": "stdout",
     "output_type": "stream",
     "text": [
      "¡Datos cargados exitosamente en la tabla candidates!\n"
     ]
    }
   ],
   "source": [
    "# Cargar el DataFrame en la tabla de PostgreSQL\n",
    "try:\n",
    "    df.to_sql(table_name, engine, if_exists='append', index=False)\n",
    "    print(f\"¡Datos cargados exitosamente en la tabla {table_name}!\")\n",
    "except Exception as e:\n",
    "    print(f\"Error al cargar los datos en la base de datos: {e}\")"
   ]
  },
  {
   "cell_type": "code",
   "execution_count": 25,
   "metadata": {},
   "outputs": [
    {
     "name": "stdout",
     "output_type": "stream",
     "text": [
      "El archivo CSV tiene un total de 50000 filas.\n",
      "El número total de registros en la tabla candidates es: 50000\n"
     ]
    }
   ],
   "source": [
    "total_filas_csv = len(df)\n",
    "print(f\"El archivo CSV tiene un total de {total_filas_csv} filas.\")\n",
    "\n",
    "try:\n",
    "    with engine.connect() as connection:\n",
    "        # Ejecutar la consulta\n",
    "        result = connection.execute(text(f\"SELECT COUNT(*) FROM {table_name}\"))\n",
    "        total_registros = result.scalar()  # Obtener el resultado de la consulta\n",
    "        print(f\"El número total de registros en la tabla {table_name} es: {total_registros}\")\n",
    "except Exception as e:\n",
    "    print(f\"Error al ejecutar la consulta: {e}\")"
   ]
  }
 ],
 "metadata": {
  "kernelspec": {
   "display_name": "Python 3",
   "language": "python",
   "name": "python3"
  },
  "language_info": {
   "codemirror_mode": {
    "name": "ipython",
    "version": 3
   },
   "file_extension": ".py",
   "mimetype": "text/x-python",
   "name": "python",
   "nbconvert_exporter": "python",
   "pygments_lexer": "ipython3",
   "version": "3.12.0"
  }
 },
 "nbformat": 4,
 "nbformat_minor": 2
}

{
 "cells": [
  {
   "cell_type": "code",
   "execution_count": 34,
   "metadata": {},
   "outputs": [],
   "source": [
    "from sqlalchemy import create_engine, text\n",
    "import pandas as pd\n",
    "import psycopg2\n",
    "import json"
   ]
  },
  {
   "cell_type": "code",
   "execution_count": 29,
   "metadata": {},
   "outputs": [
    {
     "name": "stdout",
     "output_type": "stream",
     "text": [
      "¡Conexión exitosa!\n"
     ]
    }
   ],
   "source": [
    "# Cargar credenciales desde el archivo JSON\n",
    "with open(\"../credenciales.json\", \"r\") as file:\n",
    "    credenciales = json.load(file)\n",
    "\n",
    "# Establecer la conexión\n",
    "try:\n",
    "    conn = psycopg2.connect(\n",
    "        user=credenciales[\"user\"],\n",
    "        password=credenciales[\"password\"],\n",
    "        host=credenciales[\"host\"],\n",
    "        port=credenciales[\"port\"],\n",
    "        database=credenciales[\"database\"]\n",
    "    )\n",
    "    print(\"¡Conexión exitosa!\")\n",
    "except Exception as e:\n",
    "    print(f\"Error al conectar a la base de datos: {e}\")\n",
    "finally:\n",
    "    if conn:\n",
    "        conn.close()"
   ]
  },
  {
   "cell_type": "code",
   "execution_count": 30,
   "metadata": {},
   "outputs": [
    {
     "name": "stdout",
     "output_type": "stream",
     "text": [
      "  First Name;Last Name;Email;Application Date;Country;YOE;Seniority;Technology;Code Challenge Score;Technical Interview Score\n",
      "0  Bernadette;Langworth;leonard91@yahoo.com;2021-...                                                                         \n",
      "1  Camryn;Reynolds;zelda56@hotmail.com;2021-09-09...                                                                         \n",
      "2  Larue;Spinka;okey_schultz41@gmail.com;2020-04-...                                                                         \n",
      "3  Arch;Spinka;elvera_kulas@yahoo.com;2020-10-01;...                                                                         \n",
      "4  Larue;Altenwerth;minnie.gislason@gmail.com;202...                                                                         \n",
      "\n",
      "El archivo CSV tiene un total de 50000 filas.\n"
     ]
    }
   ],
   "source": [
    "# Leer el archivo CSV\n",
    "df = pd.read_csv(\"../data/raw/candidates.csv\")\n",
    "\n",
    "# Mostrar las primeras filas\n",
    "print(df.head())\n",
    "\n",
    "total_filas_csv = len(df)\n",
    "print(\"\")\n",
    "print(f\"El archivo CSV tiene un total de {total_filas_csv} filas.\")"
   ]
  },
  {
   "cell_type": "code",
   "execution_count": null,
   "metadata": {},
   "outputs": [
    {
     "name": "stdout",
     "output_type": "stream",
     "text": [
      "La base de datos 'candidates' ya existe.\n",
      "Tabla 'candidates' creada y datos cargados en la base de datos 'candidates'.\n"
     ]
    }
   ],
   "source": [
    "# Cargar credenciales desde el archivo JSON\n",
    "credentials = \"../credenciales.json\"\n",
    "with open(credentials) as f:\n",
    "    creds = json.load(f)\n",
    "\n",
    "# Credenciales de la base de datos\n",
    "DB_USER = creds[\"user\"]\n",
    "DB_PASSWORD = creds[\"password\"]\n",
    "DB_HOST = creds[\"host\"]\n",
    "DB_PORT = creds[\"port\"]\n",
    "DB_NAME = creds[\"database\"]\n",
    "\n",
    "# Crear Base de Datos si no existe\n",
    "creator_connection_string = f'postgresql+psycopg2://{DB_USER}:{DB_PASSWORD}@{DB_HOST}:{DB_PORT}/postgres'\n",
    "creator_engine = create_engine(creator_connection_string)\n",
    "\n",
    "with creator_engine.connect() as connection:\n",
    "    connection.execution_options(isolation_level=\"AUTOCOMMIT\")\n",
    "    result = connection.execute(\n",
    "        text(f\"SELECT 1 FROM pg_database WHERE datname = '{DB_NAME}'\")\n",
    "    )\n",
    "    \n",
    "    if not result.scalar():\n",
    "        connection.execute(text(f\"CREATE DATABASE {DB_NAME}\"))\n",
    "        print(f\"Base de datos '{DB_NAME}' creada exitosamente!\")\n",
    "    else:\n",
    "        print(f\"La base de datos '{DB_NAME}' ya existe.\")\n",
    "\n",
    "# Crear conexión a la base de datos ya creada\n",
    "connection_string = f'postgresql+psycopg2://{DB_USER}:{DB_PASSWORD}@{DB_HOST}:{DB_PORT}/{DB_NAME}'\n",
    "engine = create_engine(connection_string)\n",
    "\n",
    "# Cargar el DataFrame desde el archivo CSV\n",
    "df = pd.read_csv(\"../data/raw/candidates.csv\")\n",
    "\n",
    "# Crear la tabla en la base de datos y cargar los datos\n",
    "table_name = \"candidates\"  # Nombre de la tabla\n",
    "df.to_sql(table_name, engine, if_exists='replace', index=False)\n",
    "\n",
    "print(f\"Tabla '{table_name}' creada y datos cargados en la base de datos '{DB_NAME}'.\")"
   ]
  },
  {
   "cell_type": "code",
   "execution_count": 32,
   "metadata": {},
   "outputs": [
    {
     "name": "stdout",
     "output_type": "stream",
     "text": [
      "Primeros 5 registros de la tabla 'candidates':\n",
      "('Bernadette;Langworth;leonard91@yahoo.com;2021-02-26;Norway;2;Intern;Data Engineer;3;3',)\n",
      "('Camryn;Reynolds;zelda56@hotmail.com;2021-09-09;Panama;10;Intern;Data Engineer;2;10',)\n",
      "('Larue;Spinka;okey_schultz41@gmail.com;2020-04-14;Belarus;4;Mid-Level;Client Success;10;9',)\n",
      "('Arch;Spinka;elvera_kulas@yahoo.com;2020-10-01;Eritrea;25;Trainee;QA Manual;7;1',)\n",
      "('Larue;Altenwerth;minnie.gislason@gmail.com;2020-05-20;Myanmar;13;Mid-Level;Social Media Community Management;9;7',)\n"
     ]
    }
   ],
   "source": [
    "# Conectar a la base de datos\n",
    "connection_string = f'postgresql+psycopg2://{DB_USER}:{DB_PASSWORD}@{DB_HOST}:{DB_PORT}/{DB_NAME}'\n",
    "engine = create_engine(connection_string)\n",
    "\n",
    "# Verificar los datos en la nueva tabla\n",
    "with engine.connect() as connection:\n",
    "    result = connection.execute(text(f\"SELECT * FROM {table_name} LIMIT 5;\"))\n",
    "    print(f\"Primeros 5 registros de la tabla '{table_name}':\")\n",
    "    for row in result:\n",
    "        print(row)"
   ]
  }
 ],
 "metadata": {
  "kernelspec": {
   "display_name": "Python 3",
   "language": "python",
   "name": "python3"
  },
  "language_info": {
   "codemirror_mode": {
    "name": "ipython",
    "version": 3
   },
   "file_extension": ".py",
   "mimetype": "text/x-python",
   "name": "python",
   "nbconvert_exporter": "python",
   "pygments_lexer": "ipython3",
   "version": "3.12.0"
  }
 },
 "nbformat": 4,
 "nbformat_minor": 2
}

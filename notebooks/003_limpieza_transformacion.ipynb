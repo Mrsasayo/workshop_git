{
 "cells": [
  {
   "cell_type": "code",
   "execution_count": null,
   "metadata": {},
   "outputs": [],
   "source": [
    "# 1. Filtrar registros donde ambos puntajes son mayores que 7\n",
    "contratados = df[(df['Code Challenge Score'] > 7) & (df['Technical Interview Score'] > 7)]\n",
    "\n",
    "# 2. Convertir la columna a tipo datetime\n",
    "contratados['Application Date'] = pd.to_datetime(contratados['Application Date'])\n",
    "\n",
    "# 3. Extraer el año\n",
    "contratados['Year'] = contratados['Application Date'].dt.year\n",
    "\n",
    "# 4. Contar contrataciones por año\n",
    "contrataciones_por_año = contratados['Year'].value_counts().sort_index()\n",
    "\n",
    "# 5. Crear la gráfica de barras\n",
    "plt.figure(figsize=(5, 3))\n",
    "sns.barplot(x=contrataciones_por_año.index, y=contrataciones_por_año.values, hue=contrataciones_por_año.index, palette=\"viridis\", legend=False)\n",
    "# Añadir título y etiquetas\n",
    "plt.title('Contrataciones por Año (Puntajes > 7)', fontsize=16)\n",
    "plt.xlabel('Año', fontsize=12)\n",
    "plt.ylabel('Número de Contrataciones', fontsize=12)\n",
    "\n",
    "# Mostrar la gráfica\n",
    "plt.show()"
   ]
  }
 ],
 "metadata": {
  "language_info": {
   "name": "python"
  }
 },
 "nbformat": 4,
 "nbformat_minor": 2
}
